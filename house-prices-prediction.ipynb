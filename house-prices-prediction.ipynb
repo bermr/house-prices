{
 "cells": [
  {
   "cell_type": "code",
   "execution_count": 1,
   "metadata": {},
   "outputs": [],
   "source": [
    "# Ames house prices predition\n",
    "# competition link: https://www.kaggle.com/c/house-prices-advanced-regression-techniques\n",
    "\n",
    "import pandas as pd\n",
    "import numpy as np\n",
    "import seaborn as sn\n",
    "import matplotlib.pyplot as plt\n",
    "import matplotlib.image as mpimg"
   ]
  },
  {
   "cell_type": "code",
   "execution_count": null,
   "metadata": {},
   "outputs": [],
   "source": [
    "img = mpimg.imread('housesbanner.png')\n",
    "imgplot = plt.imshow(img)\n",
    "plt.show()"
   ]
  },
  {
   "cell_type": "code",
   "execution_count": 2,
   "metadata": {
    "scrolled": true
   },
   "outputs": [],
   "source": [
    "# reading data 89\n",
    "\n",
    "train = pd.read_csv('data/train.csv')\n",
    "train.set_index('Id',  inplace=True)\n",
    "\n",
    "test = pd.read_csv('data/test.csv')\n",
    "test.set_index('Id',  inplace=True)"
   ]
  },
  {
   "cell_type": "code",
   "execution_count": null,
   "metadata": {},
   "outputs": [],
   "source": [
    "features = train.columns.values\n",
    "print('Features: ', (features))"
   ]
  },
  {
   "cell_type": "code",
   "execution_count": null,
   "metadata": {},
   "outputs": [],
   "source": [
    "train.describe()"
   ]
  },
  {
   "cell_type": "code",
   "execution_count": null,
   "metadata": {},
   "outputs": [],
   "source": [
    "# description of the result variable\n",
    "train['SalePrice'].describe()"
   ]
  },
  {
   "cell_type": "code",
   "execution_count": null,
   "metadata": {},
   "outputs": [],
   "source": [
    "# histogram of saleprice\n",
    "\n",
    "sn.distplot(train['SalePrice'], color=\"black\", );"
   ]
  },
  {
   "cell_type": "code",
   "execution_count": 3,
   "metadata": {},
   "outputs": [],
   "source": [
    "# combining train and test\n",
    "\n",
    "ntrain = train.shape[0]\n",
    "ntest = test.shape[0]\n",
    "y_train = train.SalePrice.values\n",
    "data = pd.concat((train, test), sort=False).reset_index(drop=True)\n",
    "data.drop(['SalePrice'], axis=1, inplace=True)"
   ]
  },
  {
   "cell_type": "code",
   "execution_count": null,
   "metadata": {
    "scrolled": true
   },
   "outputs": [],
   "source": [
    "# dealing with empty values\n",
    "\n",
    "missing_per_col = (data.isnull().sum())\n",
    "percentage = (missing_per_col * 100)/ len(data)\n",
    "print(percentage[percentage > 0.1])"
   ]
  },
  {
   "cell_type": "code",
   "execution_count": 4,
   "metadata": {},
   "outputs": [],
   "source": [
    "data[\"PoolQC\"] = data[\"PoolQC\"].fillna(\"None\")\n",
    "data[\"MiscFeature\"] = data[\"MiscFeature\"].fillna(\"None\")\n",
    "data[\"Alley\"] = data[\"Alley\"].fillna(\"None\")\n",
    "data[\"Fence\"] = data[\"Fence\"].fillna(\"None\")\n",
    "data[\"FireplaceQu\"] = data[\"FireplaceQu\"].fillna(\"None\")\n",
    "for col in ('GarageType', 'GarageFinish', 'GarageQual', 'GarageCond'):\n",
    "    data[col] = data[col].fillna('None')\n",
    "for col in ('GarageYrBlt', 'GarageArea', 'GarageCars'):\n",
    "    data[col] = data[col].fillna(0)\n",
    "for col in ('BsmtFinSF1', 'BsmtFinSF2', 'BsmtUnfSF','TotalBsmtSF', 'BsmtFullBath', 'BsmtHalfBath'):\n",
    "    data[col] = data[col].fillna(0)\n",
    "for col in ('BsmtQual', 'BsmtCond', 'BsmtExposure', 'BsmtFinType1', 'BsmtFinType2'):\n",
    "    data[col] = data[col].fillna('None')\n",
    "data[\"MasVnrType\"] = data[\"MasVnrType\"].fillna(\"None\")\n",
    "\n",
    "data[\"MasVnrArea\"] = data[\"MasVnrArea\"].fillna(0)\n",
    "\n",
    "data[\"MSZoning\"] = data.groupby(\"Neighborhood\")[\"MSZoning\"].transform(\n",
    "    lambda x: x.fillna(x.mode()[0]))\n",
    "\n",
    "data[\"LotFrontage\"] = data.groupby(\"Neighborhood\")[\"LotFrontage\"].transform(\n",
    "    lambda x: x.fillna(x.median()))"
   ]
  },
  {
   "cell_type": "code",
   "execution_count": 5,
   "metadata": {},
   "outputs": [],
   "source": [
    "data = data.drop(['Utilities'], axis=1)\n",
    "\n",
    "data[\"Functional\"] = data[\"Functional\"].fillna(\"Typ\")\n",
    "data['Electrical'] = data['Electrical'].fillna(data['Electrical'].mode()[0])\n",
    "data['KitchenQual'] = data['KitchenQual'].fillna(data['KitchenQual'].mode()[0])\n",
    "data['Exterior1st'] = data['Exterior1st'].fillna(data['Exterior1st'].mode()[0])\n",
    "data['Exterior2nd'] = data['Exterior2nd'].fillna(data['Exterior2nd'].mode()[0])\n",
    "data['SaleType'] = data['SaleType'].fillna(data['SaleType'].mode()[0])\n",
    "data['MSSubClass'] = data['MSSubClass'].fillna(\"None\")"
   ]
  },
  {
   "cell_type": "code",
   "execution_count": 6,
   "metadata": {},
   "outputs": [],
   "source": [
    "data['MSSubClass'] = data['MSSubClass'].apply(str)\n",
    "\n",
    "data['OverallCond'] = data['OverallCond'].astype(str)\n",
    "\n",
    "data['YrSold'] = data['YrSold'].astype(str)\n",
    "\n",
    "data['MoSold'] = data['MoSold'].astype(str)"
   ]
  },
  {
   "cell_type": "code",
   "execution_count": 7,
   "metadata": {},
   "outputs": [],
   "source": [
    "pd.options.mode.chained_assignment = None  # default='warn'\n",
    "\n",
    "train = data[:ntrain]\n",
    "#train['SalePrice'] = y_train\n",
    "test = data[ntrain:]"
   ]
  },
  {
   "cell_type": "code",
   "execution_count": null,
   "metadata": {},
   "outputs": [],
   "source": [
    "def plot_dtypes(df):\n",
    "    # Get dataframe with count of each dtype\n",
    "    dtypes = pd.DataFrame(df.dtypes, columns = ['dtype'])\n",
    "    dtypes = dtypes.groupby('dtype').size().rename('count').reset_index()\n",
    "    \n",
    "    # Plot resulting dataframe\n",
    "    ax = dtypes.sort_values('count').plot(\n",
    "        'dtype',\n",
    "        kind = 'barh', \n",
    "        figsize=(8,6), \n",
    "        title='Tipos de dados', \n",
    "        legend = None, \n",
    "        color = '#4A8FAD'\n",
    "        )\n",
    "    \n",
    "    # List that will hold plt.patches data\n",
    "    totals = []\n",
    "\n",
    "    # Append patch values to list\n",
    "    for i in ax.patches:\n",
    "        totals.append(i.get_width())\n",
    "\n",
    "    # Denominator for percentage\n",
    "    total = sum(totals)\n",
    "\n",
    "    # Set individual bar lables\n",
    "    for i in ax.patches:\n",
    "        # get_width to move left or right; get_y to move up or down\n",
    "        # For regular bar, switch get_width and get_y \n",
    "        # Change get_width to get_height, get_y to get_x\n",
    "        ax.text(\n",
    "            i.get_width() + .3, i.get_y() + .2,\n",
    "            str(round((i.get_width() / total)*100, 2))+'%', \n",
    "            fontsize=12,\n",
    "            color='black'\n",
    "        )\n",
    "    \n",
    "    plt.style.use('ggplot')\n",
    "    plt.show()\n",
    "    \n",
    "plot_dtypes(data)    "
   ]
  },
  {
   "cell_type": "code",
   "execution_count": null,
   "metadata": {},
   "outputs": [],
   "source": [
    "fig = plt.figure(figsize = (24, 12))\n",
    "\n",
    "corr = train.corr()\n",
    "\n",
    "mask = np.zeros_like(corr, dtype=np.bool)\n",
    "mask[np.triu_indices_from(mask)] = True\n",
    "\n",
    "sn.heatmap(\n",
    "    corr, \n",
    "    mask = mask, \n",
    "    cmap = 'winter', \n",
    "    annot = True, \n",
    "    fmt=\".2f\")\n",
    "\n",
    "plt.yticks(rotation=0) \n",
    "plt.xticks(rotation=90)\n",
    "plt.title('Matriz de correlação', fontsize = 15)\n",
    "plt.savefig('corr.png')"
   ]
  },
  {
   "cell_type": "code",
   "execution_count": null,
   "metadata": {},
   "outputs": [],
   "source": [
    "fig, ax = plt.subplots()\n",
    "ax.bar(train['OverallQual'],y_train)\n",
    "plt.xlabel('Qualidade geral', fontsize=13)\n",
    "plt.ylabel('SalePrice', fontsize=13)\n",
    "\n",
    "fig, ax = plt.subplots()\n",
    "ax.scatter(train['GrLivArea'], y_train, color=\"blue\")\n",
    "plt.xlabel('Área da casa em m2', fontsize=13)\n",
    "plt.ylabel('Preço', fontsize=13)\n",
    "\n",
    "fig, ax = plt.subplots()\n",
    "ax.bar(train['GarageCars'], y_train, color=\"darkgreen\")\n",
    "plt.xlabel('Quantidade de vagas na garagem', fontsize=13)\n",
    "plt.ylabel('Preço', fontsize=13)\n",
    "plt.show()"
   ]
  },
  {
   "cell_type": "code",
   "execution_count": null,
   "metadata": {},
   "outputs": [],
   "source": [
    "train['SalePrice'].corr(train['MasVnrArea'])"
   ]
  },
  {
   "cell_type": "code",
   "execution_count": null,
   "metadata": {},
   "outputs": [],
   "source": [
    "fig, ax = plt.subplots()\n",
    "ax.scatter(train['MasVnrArea'], y_train, color=\"darkred\")\n",
    "plt.xlabel('Área de alvenaria', fontsize=13)\n",
    "plt.ylabel('Preço', fontsize=13)"
   ]
  },
  {
   "cell_type": "code",
   "execution_count": null,
   "metadata": {},
   "outputs": [],
   "source": [
    "#print(data[data['Utilities'].values != 'AllPub'].shape[0])\n",
    "print(data[data['PoolQC'].values != 'None'].shape[0])\n",
    "\n",
    "#data = data.drop(['Utilities'], axis=1)\n",
    "#train = train.drop(train[(train['GrLivArea']>4000) & (train['SalePrice']<300000)].index)"
   ]
  },
  {
   "cell_type": "code",
   "execution_count": null,
   "metadata": {},
   "outputs": [],
   "source": [
    "print(data[data['PoolQC'].values != 'None'].shape[0])\n",
    "\n",
    "fig, ax = plt.subplots()\n",
    "ax.scatter(train['PoolQC'], y_train, color=\"darkblue\")\n",
    "plt.xlabel('Piscina', fontsize=13)\n",
    "plt.ylabel('Preço', fontsize=13)"
   ]
  },
  {
   "cell_type": "code",
   "execution_count": null,
   "metadata": {},
   "outputs": [],
   "source": [
    "t = (data['GarageYrBlt']>0) & (data['GarageType'] == 'None')\n",
    "print([i for i, x in enumerate(t) if x])\n",
    "\n",
    "a = (data['GarageFinish'] != 'None') & (data['GarageType'] == 'None')\n",
    "print([i for i, x in enumerate(a) if x])\n",
    "\n",
    "b = (data['GarageCars']>0) & (data['GarageType'] == 'None')\n",
    "print([i for i, x in enumerate(b) if x])\n",
    "\n",
    "c = (data['GarageArea']>0) & (data['GarageType'] == 'None')\n",
    "print([i for i, x in enumerate(c) if x])\n",
    "\n",
    "d = (data['GarageQual'] != 'None') & (data['GarageType'] == 'None')\n",
    "print([i for i, x in enumerate(d) if x])\n",
    "\n",
    "e = (data['GarageCond'] != 'None') & (data['GarageType'] == 'None')\n",
    "print([i for i, x in enumerate(e) if x])\n"
   ]
  },
  {
   "cell_type": "code",
   "execution_count": 10,
   "metadata": {},
   "outputs": [],
   "source": [
    "from sklearn.preprocessing import LabelEncoder\n",
    "lbl = LabelEncoder()\n",
    "\n",
    "data = data.apply(lbl.fit_transform)\n",
    "train = data[:ntrain]"
   ]
  },
  {
   "cell_type": "code",
   "execution_count": null,
   "metadata": {},
   "outputs": [],
   "source": [
    "# Feature Extraction with RFE\n",
    "from sklearn.feature_selection import RFE\n",
    "from sklearn.linear_model import LogisticRegression\n",
    "\n",
    "X = train\n",
    "Y = y_train\n",
    "# feature extraction\n",
    "model = LogisticRegression(solver=\"liblinear\", multi_class=\"auto\")\n",
    "rfe = RFE(model, 10)\n",
    "fit = rfe.fit(X, Y)\n",
    "print(\"Num Features: %d\") % fit.n_features_\n",
    "print(\"Selected Features: %s\") % fit.support_\n",
    "print(\"Feature Ranking: %s\") % fit.ranking_"
   ]
  },
  {
   "cell_type": "code",
   "execution_count": null,
   "metadata": {},
   "outputs": [],
   "source": [
    "from sklearn.decomposition import PCA\n",
    "\n",
    "X = train\n",
    "Y = y_train\n",
    "# feature extraction\n",
    "pca = PCA(n_components=3)\n",
    "fit = pca.fit(X)\n",
    "# summarize components\n",
    "print(\"Explained Variance: %s\") % fit.explained_variance_ratio_\n",
    "print(fit.components_)"
   ]
  },
  {
   "cell_type": "code",
   "execution_count": null,
   "metadata": {},
   "outputs": [],
   "source": [
    "from sklearn.ensemble import ExtraTreesClassifier\n",
    "\n",
    "X = train\n",
    "Y = y_train\n",
    "# feature extraction\n",
    "model = ExtraTreesClassifier()\n",
    "model.fit(X, Y)\n",
    "print(model.feature_importances_)"
   ]
  }
 ],
 "metadata": {
  "kernelspec": {
   "display_name": "Python 3",
   "language": "python",
   "name": "python3"
  },
  "language_info": {
   "codemirror_mode": {
    "name": "ipython",
    "version": 3
   },
   "file_extension": ".py",
   "mimetype": "text/x-python",
   "name": "python",
   "nbconvert_exporter": "python",
   "pygments_lexer": "ipython3",
   "version": "3.6.8"
  }
 },
 "nbformat": 4,
 "nbformat_minor": 2
}
